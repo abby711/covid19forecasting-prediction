{
  "nbformat": 4,
  "nbformat_minor": 0,
  "metadata": {
    "colab": {
      "name": "covid.ipynb",
      "provenance": [],
      "collapsed_sections": []
    },
    "kernelspec": {
      "name": "python3",
      "display_name": "Python 3"
    }
  },
  "cells": [
    {
      "cell_type": "code",
      "metadata": {
        "id": "e2N8H63J4n7O",
        "outputId": "0e853a89-3400-4aea-d3ba-24de3984e1a0",
        "colab": {
          "base_uri": "https://localhost:8080/",
          "height": 74
        }
      },
      "source": [
        "import pandas as pd  #data analysis modelling purpose for regression, analysis and all\n",
        "import matplotlib.pyplot as plt #data visualisation\n",
        "import seaborn as sns #for adv visualisation, analysis\n",
        "import numpy as np\n",
        "import datetime as dt\n",
        "from datetime import timedelta\n",
        "from sklearn.linear_model import LinearRegression\n",
        "from sklearn.svm import SVR\n",
        "from statsmodels.tsa.api import Holt "
      ],
      "execution_count": 1,
      "outputs": [
        {
          "output_type": "stream",
          "text": [
            "/usr/local/lib/python3.6/dist-packages/statsmodels/tools/_testing.py:19: FutureWarning: pandas.util.testing is deprecated. Use the functions in the public API at pandas.testing instead.\n",
            "  import pandas.util.testing as tm\n"
          ],
          "name": "stderr"
        }
      ]
    },
    {
      "cell_type": "code",
      "metadata": {
        "id": "qzw0bSDc4zfW",
        "outputId": "3aed1d50-aabc-4d43-a42f-687e05df4ad3",
        "colab": {
          "base_uri": "https://localhost:8080/",
          "height": 363
        }
      },
      "source": [
        "#readind data\n",
        "covid=pd.read_csv(\"covid19.csv\")\n",
        "covid.head(10)\n",
        "#covid.tail() for last 5 rows"
      ],
      "execution_count": 3,
      "outputs": [
        {
          "output_type": "execute_result",
          "data": {
            "text/html": [
              "<div>\n",
              "<style scoped>\n",
              "    .dataframe tbody tr th:only-of-type {\n",
              "        vertical-align: middle;\n",
              "    }\n",
              "\n",
              "    .dataframe tbody tr th {\n",
              "        vertical-align: top;\n",
              "    }\n",
              "\n",
              "    .dataframe thead th {\n",
              "        text-align: right;\n",
              "    }\n",
              "</style>\n",
              "<table border=\"1\" class=\"dataframe\">\n",
              "  <thead>\n",
              "    <tr style=\"text-align: right;\">\n",
              "      <th></th>\n",
              "      <th>SNo</th>\n",
              "      <th>ObservationDate</th>\n",
              "      <th>Province/State</th>\n",
              "      <th>Country/Region</th>\n",
              "      <th>Last Update</th>\n",
              "      <th>Confirmed</th>\n",
              "      <th>Deaths</th>\n",
              "      <th>Recovered</th>\n",
              "    </tr>\n",
              "  </thead>\n",
              "  <tbody>\n",
              "    <tr>\n",
              "      <th>0</th>\n",
              "      <td>1</td>\n",
              "      <td>1/22/2020</td>\n",
              "      <td>Anhui</td>\n",
              "      <td>Mainland China</td>\n",
              "      <td>1/22/2020 17:00</td>\n",
              "      <td>1</td>\n",
              "      <td>0</td>\n",
              "      <td>0</td>\n",
              "    </tr>\n",
              "    <tr>\n",
              "      <th>1</th>\n",
              "      <td>2</td>\n",
              "      <td>1/22/2020</td>\n",
              "      <td>Beijing</td>\n",
              "      <td>Mainland China</td>\n",
              "      <td>1/22/2020 17:00</td>\n",
              "      <td>14</td>\n",
              "      <td>0</td>\n",
              "      <td>0</td>\n",
              "    </tr>\n",
              "    <tr>\n",
              "      <th>2</th>\n",
              "      <td>3</td>\n",
              "      <td>1/22/2020</td>\n",
              "      <td>Chongqing</td>\n",
              "      <td>Mainland China</td>\n",
              "      <td>1/22/2020 17:00</td>\n",
              "      <td>6</td>\n",
              "      <td>0</td>\n",
              "      <td>0</td>\n",
              "    </tr>\n",
              "    <tr>\n",
              "      <th>3</th>\n",
              "      <td>4</td>\n",
              "      <td>1/22/2020</td>\n",
              "      <td>Fujian</td>\n",
              "      <td>Mainland China</td>\n",
              "      <td>1/22/2020 17:00</td>\n",
              "      <td>1</td>\n",
              "      <td>0</td>\n",
              "      <td>0</td>\n",
              "    </tr>\n",
              "    <tr>\n",
              "      <th>4</th>\n",
              "      <td>5</td>\n",
              "      <td>1/22/2020</td>\n",
              "      <td>Gansu</td>\n",
              "      <td>Mainland China</td>\n",
              "      <td>1/22/2020 17:00</td>\n",
              "      <td>0</td>\n",
              "      <td>0</td>\n",
              "      <td>0</td>\n",
              "    </tr>\n",
              "    <tr>\n",
              "      <th>5</th>\n",
              "      <td>6</td>\n",
              "      <td>1/22/2020</td>\n",
              "      <td>Guangdong</td>\n",
              "      <td>Mainland China</td>\n",
              "      <td>1/22/2020 17:00</td>\n",
              "      <td>26</td>\n",
              "      <td>0</td>\n",
              "      <td>0</td>\n",
              "    </tr>\n",
              "    <tr>\n",
              "      <th>6</th>\n",
              "      <td>7</td>\n",
              "      <td>1/22/2020</td>\n",
              "      <td>Guangxi</td>\n",
              "      <td>Mainland China</td>\n",
              "      <td>1/22/2020 17:00</td>\n",
              "      <td>2</td>\n",
              "      <td>0</td>\n",
              "      <td>0</td>\n",
              "    </tr>\n",
              "    <tr>\n",
              "      <th>7</th>\n",
              "      <td>8</td>\n",
              "      <td>1/22/2020</td>\n",
              "      <td>Guizhou</td>\n",
              "      <td>Mainland China</td>\n",
              "      <td>1/22/2020 17:00</td>\n",
              "      <td>1</td>\n",
              "      <td>0</td>\n",
              "      <td>0</td>\n",
              "    </tr>\n",
              "    <tr>\n",
              "      <th>8</th>\n",
              "      <td>9</td>\n",
              "      <td>1/22/2020</td>\n",
              "      <td>Hainan</td>\n",
              "      <td>Mainland China</td>\n",
              "      <td>1/22/2020 17:00</td>\n",
              "      <td>4</td>\n",
              "      <td>0</td>\n",
              "      <td>0</td>\n",
              "    </tr>\n",
              "    <tr>\n",
              "      <th>9</th>\n",
              "      <td>10</td>\n",
              "      <td>1/22/2020</td>\n",
              "      <td>Hebei</td>\n",
              "      <td>Mainland China</td>\n",
              "      <td>1/22/2020 17:00</td>\n",
              "      <td>1</td>\n",
              "      <td>0</td>\n",
              "      <td>0</td>\n",
              "    </tr>\n",
              "  </tbody>\n",
              "</table>\n",
              "</div>"
            ],
            "text/plain": [
              "   SNo ObservationDate Province/State  ... Confirmed Deaths  Recovered\n",
              "0    1       1/22/2020          Anhui  ...         1      0          0\n",
              "1    2       1/22/2020        Beijing  ...        14      0          0\n",
              "2    3       1/22/2020      Chongqing  ...         6      0          0\n",
              "3    4       1/22/2020         Fujian  ...         1      0          0\n",
              "4    5       1/22/2020          Gansu  ...         0      0          0\n",
              "5    6       1/22/2020      Guangdong  ...        26      0          0\n",
              "6    7       1/22/2020        Guangxi  ...         2      0          0\n",
              "7    8       1/22/2020        Guizhou  ...         1      0          0\n",
              "8    9       1/22/2020         Hainan  ...         4      0          0\n",
              "9   10       1/22/2020          Hebei  ...         1      0          0\n",
              "\n",
              "[10 rows x 8 columns]"
            ]
          },
          "metadata": {
            "tags": []
          },
          "execution_count": 3
        }
      ]
    },
    {
      "cell_type": "code",
      "metadata": {
        "id": "cC1ZB4E58QX5",
        "outputId": "1b6a5afd-7481-47c0-d3dc-40b82919f060",
        "colab": {
          "base_uri": "https://localhost:8080/",
          "height": 368
        }
      },
      "source": [
        "print(\"size/shape of dataset\",covid.shape)\n",
        "print(\"checking for null values\",covid.isnull().sum()) #data clensing returns count of null values\n",
        "print(\"checking data type\",covid.dtypes)"
      ],
      "execution_count": 4,
      "outputs": [
        {
          "output_type": "stream",
          "text": [
            "size/shape of dataset (18327, 8)\n",
            "checking for null values SNo                   0\n",
            "ObservationDate       0\n",
            "Province/State     9277\n",
            "Country/Region        0\n",
            "Last Update           0\n",
            "Confirmed             0\n",
            "Deaths                0\n",
            "Recovered             0\n",
            "dtype: int64\n",
            "checking data type SNo                 int64\n",
            "ObservationDate    object\n",
            "Province/State     object\n",
            "Country/Region     object\n",
            "Last Update        object\n",
            "Confirmed           int64\n",
            "Deaths              int64\n",
            "Recovered           int64\n",
            "dtype: object\n"
          ],
          "name": "stdout"
        }
      ]
    },
    {
      "cell_type": "code",
      "metadata": {
        "id": "VVYABr4p-W8M"
      },
      "source": [
        "#droppping the sn no column\n",
        "covid.drop([\"SNo\"],1,inplace=True)"
      ],
      "execution_count": 5,
      "outputs": []
    },
    {
      "cell_type": "code",
      "metadata": {
        "id": "n1Lw9TenBKHE",
        "outputId": "b3bf53b4-f93a-4836-c55c-e0845155c8b5",
        "colab": {
          "base_uri": "https://localhost:8080/",
          "height": 165
        }
      },
      "source": [
        "covid.isnull().sum()"
      ],
      "execution_count": 6,
      "outputs": [
        {
          "output_type": "execute_result",
          "data": {
            "text/plain": [
              "ObservationDate       0\n",
              "Province/State     9277\n",
              "Country/Region        0\n",
              "Last Update           0\n",
              "Confirmed             0\n",
              "Deaths                0\n",
              "Recovered             0\n",
              "dtype: int64"
            ]
          },
          "metadata": {
            "tags": []
          },
          "execution_count": 6
        }
      ]
    },
    {
      "cell_type": "code",
      "metadata": {
        "id": "FcLWp4XrBNqh"
      },
      "source": [
        "covid[\"ObservationDate\"]=pd.to_datetime(covid[\"ObservationDate\"])"
      ],
      "execution_count": 7,
      "outputs": []
    },
    {
      "cell_type": "code",
      "metadata": {
        "id": "a1k1wUmUBpFm",
        "outputId": "60a33511-fa76-478b-8bf9-bf04f619c9d7",
        "colab": {
          "base_uri": "https://localhost:8080/",
          "height": 239
        }
      },
      "source": [
        "covid[\"ObservationDate\"]"
      ],
      "execution_count": 8,
      "outputs": [
        {
          "output_type": "execute_result",
          "data": {
            "text/plain": [
              "0       2020-01-22\n",
              "1       2020-01-22\n",
              "2       2020-01-22\n",
              "3       2020-01-22\n",
              "4       2020-01-22\n",
              "           ...    \n",
              "18322   2020-04-24\n",
              "18323   2020-04-24\n",
              "18324   2020-04-24\n",
              "18325   2020-04-24\n",
              "18326   2020-04-24\n",
              "Name: ObservationDate, Length: 18327, dtype: datetime64[ns]"
            ]
          },
          "metadata": {
            "tags": []
          },
          "execution_count": 8
        }
      ]
    },
    {
      "cell_type": "code",
      "metadata": {
        "id": "NQD7aVVRBsz0"
      },
      "source": [
        "#grouping different types of cases per the date dot aggregation methods\n",
        "datewise= covid.groupby([\"ObservationDate\"]).agg({\"Confirmed\":\"sum\",\"Recovered\":\"sum\",\"Deaths\":\"sum\"})"
      ],
      "execution_count": 9,
      "outputs": []
    },
    {
      "cell_type": "code",
      "metadata": {
        "id": "5zAhZR_BCdXE",
        "outputId": "5a843baa-7077-4bfa-caae-7299ff750f2a",
        "colab": {
          "base_uri": "https://localhost:8080/",
          "height": 128
        }
      },
      "source": [
        "print(\"basic information\")\n",
        "print(\"total number of confirmed cases\",datewise[\"Confirmed\"].iloc[-1])\n",
        "print(\"total number of recovered cases\",datewise[\"Recovered\"].iloc[-1])\n",
        "print(\"total number of deaths\",datewise[\"Deaths\"].iloc[-1])\n",
        "print(\"total number of active cases\",datewise[\"Confirmed\"].iloc[-1]-datewise[\"Recovered\"].iloc[-1]-datewise[\"Deaths\"].iloc[-1])\n",
        "print(\"total number of active cases\",datewise[\"Recovered\"].iloc[-1]+datewise[\"Deaths\"].iloc[-1])\n"
      ],
      "execution_count": 10,
      "outputs": [
        {
          "output_type": "stream",
          "text": [
            "basic information\n",
            "total number of confirmed cases 2811193\n",
            "total number of recovered cases 793601\n",
            "total number of deaths 197159\n",
            "total number of active cases 1820433\n",
            "total number of active cases 990760\n"
          ],
          "name": "stdout"
        }
      ]
    },
    {
      "cell_type": "code",
      "metadata": {
        "id": "5OZH90srDcfE",
        "outputId": "1271912f-4d51-4e9e-aee0-2a55fd3d8f7e",
        "colab": {
          "base_uri": "https://localhost:8080/",
          "height": 513
        }
      },
      "source": [
        "plt.figure(figsize=(15,5))\n",
        "sns.barplot(x=datewise.index.date,y=datewise[\"Confirmed\"]-datewise[\"Recovered\"]-datewise[\"Deaths\"])\n",
        "plt.title(\"DISTRIBUTIONS PLOT FOR ACTIVE CASES\")\n",
        "plt.xticks(rotation=90)"
      ],
      "execution_count": 11,
      "outputs": [
        {
          "output_type": "execute_result",
          "data": {
            "text/plain": [
              "(array([ 0,  1,  2,  3,  4,  5,  6,  7,  8,  9, 10, 11, 12, 13, 14, 15, 16,\n",
              "        17, 18, 19, 20, 21, 22, 23, 24, 25, 26, 27, 28, 29, 30, 31, 32, 33,\n",
              "        34, 35, 36, 37, 38, 39, 40, 41, 42, 43, 44, 45, 46, 47, 48, 49, 50,\n",
              "        51, 52, 53, 54, 55, 56, 57, 58, 59, 60, 61, 62, 63, 64, 65, 66, 67,\n",
              "        68, 69, 70, 71, 72, 73, 74, 75, 76, 77, 78, 79, 80, 81, 82, 83, 84,\n",
              "        85, 86, 87, 88, 89, 90, 91, 92, 93]),\n",
              " <a list of 94 Text major ticklabel objects>)"
            ]
          },
          "metadata": {
            "tags": []
          },
          "execution_count": 11
        },
        {
          "output_type": "display_data",
          "data": {
            "image/png": "[encoded data removed]",
            "text/plain": [
              "<Figure size 1080x360 with 1 Axes>"
            ]
          },
          "metadata": {
            "tags": [],
            "needs_background": "light"
          }
        }
      ]
    },
    {
      "cell_type": "code",
      "metadata": {
        "id": "dlSW1ydAHkvL",
        "outputId": "8a53bc14-8719-4b35-d150-607a1f267d54",
        "colab": {
          "base_uri": "https://localhost:8080/",
          "height": 513
        }
      },
      "source": [
        "plt.figure(figsize=(15,5))\n",
        "sns.barplot(x=datewise.index.date,y=datewise[\"Recovered\"]+datewise[\"Recovered\"]-datewise[\"Deaths\"])\n",
        "plt.title(\"DISTRIBUTIONS PLOT FOR CLOSED CASES\")\n",
        "plt.xticks(rotation=90)"
      ],
      "execution_count": 12,
      "outputs": [
        {
          "output_type": "execute_result",
          "data": {
            "text/plain": [
              "(array([ 0,  1,  2,  3,  4,  5,  6,  7,  8,  9, 10, 11, 12, 13, 14, 15, 16,\n",
              "        17, 18, 19, 20, 21, 22, 23, 24, 25, 26, 27, 28, 29, 30, 31, 32, 33,\n",
              "        34, 35, 36, 37, 38, 39, 40, 41, 42, 43, 44, 45, 46, 47, 48, 49, 50,\n",
              "        51, 52, 53, 54, 55, 56, 57, 58, 59, 60, 61, 62, 63, 64, 65, 66, 67,\n",
              "        68, 69, 70, 71, 72, 73, 74, 75, 76, 77, 78, 79, 80, 81, 82, 83, 84,\n",
              "        85, 86, 87, 88, 89, 90, 91, 92, 93]),\n",
              " <a list of 94 Text major ticklabel objects>)"
            ]
          },
          "metadata": {
            "tags": []
          },
          "execution_count": 12
        },
        {
          "output_type": "display_data",
          "data": {
            "image/png": "[encoded data removed]",
            "text/plain": [
              "<Figure size 1080x360 with 1 Axes>"
            ]
          },
          "metadata": {
            "tags": [],
            "needs_background": "light"
          }
        }
      ]
    },
    {
      "cell_type": "code",
      "metadata": {
        "id": "4zikczL7H09X",
        "outputId": "8fdfb04c-0f8a-4962-e6ee-f81194b40ea3",
        "colab": {
          "base_uri": "https://localhost:8080/",
          "height": 425
        }
      },
      "source": [
        "datewise[\"WeekOfYear\"]=datewise.index.weekofyear\n",
        "week_num=[]\n",
        "weekwise_confirmed=[]\n",
        "weekwise_recovered=[]\n",
        "weekwise_deaths=[]\n",
        "w=1\n",
        "for i in list(datewise[\"WeekOfYear\"].unique()):\n",
        "  weekwise_confirmed.append(datewise[datewise[\"WeekOfYear\"]==i][\"Confirmed\"].iloc[-1])\n",
        "  weekwise_recovered.append(datewise[datewise[\"WeekOfYear\"]==i][\"Recovered\"].iloc[-1])\n",
        "  weekwise_deaths.append(datewise[datewise[\"WeekOfYear\"]==i][\"Deaths\"].iloc[-1])\n",
        "  week_num.append(w)\n",
        "  w+=1\n",
        "plt.figure(figsize=(8,5))\n",
        "plt.plot(week_num,weekwise_confirmed,linewidth=3)\n",
        "plt.plot(week_num,weekwise_recovered,linewidth=3)  \n",
        "plt.plot(week_num,weekwise_deaths,linewidth=3)  \n",
        "plt.xlabel(\"WeekNumber\")\n",
        "plt.ylabel(\"no of cases\")\n",
        "plt.title(\"weekly progress of the diff cases\")\n"
      ],
      "execution_count": 13,
      "outputs": [
        {
          "output_type": "stream",
          "text": [
            "/usr/local/lib/python3.6/dist-packages/ipykernel_launcher.py:1: FutureWarning: weekofyear and week have been deprecated, please use DatetimeIndex.isocalendar().week instead, which returns a Series.  To exactly reproduce the behavior of week and weekofyear and return an Index, you may call pd.Int64Index(idx.isocalendar().week)\n",
            "  \"\"\"Entry point for launching an IPython kernel.\n"
          ],
          "name": "stderr"
        },
        {
          "output_type": "execute_result",
          "data": {
            "text/plain": [
              "Text(0.5, 1.0, 'weekly progress of the diff cases')"
            ]
          },
          "metadata": {
            "tags": []
          },
          "execution_count": 13
        },
        {
          "output_type": "display_data",
          "data": {
            "image/png": "[encoded data removed]",
            "text/plain": [
              "<Figure size 576x360 with 1 Axes>"
            ]
          },
          "metadata": {
            "tags": [],
            "needs_background": "light"
          }
        }
      ]
    },
    {
      "cell_type": "code",
      "metadata": {
        "id": "hobJmg9_Kagk",
        "outputId": "2b39f143-9723-4cc3-c7e6-0240502f2532",
        "colab": {
          "base_uri": "https://localhost:8080/",
          "height": 313
        }
      },
      "source": [
        "fig,(ax1,ax2)= plt.subplots(1,2,figsize=(12,4))\n",
        "sns.barplot(x=week_num, y=pd.Series(weekwise_confirmed).diff().fillna(0),ax=ax1)\n",
        "sns.barplot(x=week_num, y=pd.Series(weekwise_deaths).diff().fillna(0),ax=ax2)\n",
        "ax1.set_xlabel(\"week number\")\n",
        "ax2.set_xlabel(\"week number\")\n",
        "ax1.set_ylabel(\"no of confirmed cases\")\n",
        "ax2.set_ylabel(\"no of death cases\")\n",
        "ax1.set_title(\"weekly increase in no of confirmed cases\")\n",
        "ax2.set_title(\"weekly increase in no of death cases\")"
      ],
      "execution_count": 15,
      "outputs": [
        {
          "output_type": "execute_result",
          "data": {
            "text/plain": [
              "Text(0.5, 1.0, 'weekly increase in no of death cases')"
            ]
          },
          "metadata": {
            "tags": []
          },
          "execution_count": 15
        },
        {
          "output_type": "display_data",
          "data": {
            "image/png": "[encoded data removed]",
            "text/plain": [
              "<Figure size 864x288 with 2 Axes>"
            ]
          },
          "metadata": {
            "tags": [],
            "needs_background": "light"
          }
        }
      ]
    },
    {
      "cell_type": "code",
      "metadata": {
        "id": "WnS3GTjBAIk1",
        "outputId": "c3f7cbe7-9b80-4090-cf64-27492266b215",
        "colab": {
          "base_uri": "https://localhost:8080/",
          "height": 453
        }
      },
      "source": [
        "#average increase\n",
        "print(\"average inc in no of confirmed cases everyday\",np.round(datewise[\"Confirmed\"].diff().fillna(0).mean()))\n",
        "print(\"average inc in no of recovered cases everyday\",np.round(datewise[\"Recovered\"].diff().fillna(0).mean()))\n",
        "print(\"average inc in no of deaths everyday\",np.round(datewise[\"Deaths\"].diff().fillna(0).mean()))\n",
        "plt.figure(figsize=(10,5))\n",
        "plt.plot(datewise[\"Confirmed\"].diff().fillna(0),label=\"daily inc in confirmed cases\",linewidth=3)\n",
        "plt.plot(datewise[\"Recovered\"].diff().fillna(0),label=\"daily inc in recovered cases\",linewidth=3)\n",
        "plt.plot(datewise[\"Deaths\"].diff().fillna(0),label=\"daily inc in deaths cases\",linewidth=3)\n",
        "plt.xlabel(\"timestamp\")\n",
        "plt.ylabel(\"daily increase\")\n",
        "plt.title(\"daily increase\")\n",
        "plt.legend()\n",
        "plt.xticks(rotation=90)\n",
        "plt.show()"
      ],
      "execution_count": 17,
      "outputs": [
        {
          "output_type": "stream",
          "text": [
            "average inc in no of confirmed cases everyday 29900.0\n",
            "average inc in no of recovered cases everyday 8442.0\n",
            "average inc in no of deaths everyday 2097.0\n"
          ],
          "name": "stdout"
        },
        {
          "output_type": "display_data",
          "data": {
            "image/png": "[encoded data removed]",
            "text/plain": [
              "<Figure size 720x360 with 1 Axes>"
            ]
          },
          "metadata": {
            "tags": [],
            "needs_background": "light"
          }
        }
      ]
    },
    {
      "cell_type": "code",
      "metadata": {
        "id": "wlr9r4I_CDBD"
      },
      "source": [
        "#country wise analysis of mortality=death-recovered cases\n",
        "\n",
        "countrywise=covid[covid[\"ObservationDate\"]==covid[\"ObservationDate\"].max()].groupby([\"Country/Region\"]).agg({\"Confirmed\":\"sum\",\"Recovered\":\"sum\",\"Deaths\":\"sum\"}).sort_values([\"Confirmed\"],ascending=False)\n",
        "countrywise[\"Mortality\"]=(countrywise[\"Deaths\"]/countrywise[\"Confirmed\"])*100\n",
        "countrywise[\"Recovered\"]=(countrywise[\"Recovered\"]/countrywise[\"Confirmed\"])*100\n"
      ],
      "execution_count": 18,
      "outputs": []
    },
    {
      "cell_type": "code",
      "metadata": {
        "id": "3hbuT00OD6Pk",
        "outputId": "53bea060-4d69-4469-8c8a-6bb053c297d2",
        "colab": {
          "base_uri": "https://localhost:8080/",
          "height": 550
        }
      },
      "source": [
        "fig,(ax1,ax2)= plt.subplots(1,2,figsize=(25,10))\n",
        "top15c=countrywise.sort_values([\"Confirmed\"],ascending=False).head(15)\n",
        "top15d=countrywise.sort_values([\"Deaths\"],ascending=False).head(15)\n",
        "sns.barplot(x=top15c[\"Confirmed\"],y=top15c.index,ax=ax1)\n",
        "ax1.set_title(\"top 15 countries as per confirmed cases\")\n",
        "sns.barplot(x=top15d[\"Deaths\"],y=top15d.index,ax=ax2)\n",
        "ax2.set_title(\"top 15 countries as per confirmed cases\")"
      ],
      "execution_count": 20,
      "outputs": [
        {
          "output_type": "execute_result",
          "data": {
            "text/plain": [
              "Text(0.5, 1.0, 'top 15 countries as per confirmed cases')"
            ]
          },
          "metadata": {
            "tags": []
          },
          "execution_count": 20
        },
        {
          "output_type": "display_data",
          "data": {
            "image/png": "[encoded data removed]",
            "text/plain": [
              "<Figure size 1800x720 with 2 Axes>"
            ]
          },
          "metadata": {
            "tags": [],
            "needs_background": "light"
          }
        }
      ]
    },
    {
      "cell_type": "code",
      "metadata": {
        "id": "25-7G-dKFKo2",
        "outputId": "6548b8f3-873c-4743-9d0e-d2871085494e",
        "colab": {
          "base_uri": "https://localhost:8080/",
          "height": 128
        }
      },
      "source": [
        "#data analysis for india\n",
        "india=covid[covid[\"Country/Region\"]==\"India\"]\n",
        "datewiseindia=india.groupby([\"ObservationDate\"]).agg({\"Confirmed\":\"sum\",\"Recovered\":\"sum\",\"Deaths\":\"sum\"})\n",
        "print(datewiseindia.iloc[-1])\n",
        "print(\"total active cases\",datewiseindia[\"Confirmed\"].iloc[-1]-datewiseindia[\"Recovered\"].iloc[-1]-datewiseindia[\"Deaths\"].iloc[-1])\n",
        "print(\"total closed cases\",datewiseindia[\"Recovered\"].iloc[-1]+datewiseindia[\"Deaths\"].iloc[-1])"
      ],
      "execution_count": 23,
      "outputs": [
        {
          "output_type": "stream",
          "text": [
            "Confirmed    24530\n",
            "Recovered     5498\n",
            "Deaths         780\n",
            "Name: 2020-04-24 00:00:00, dtype: int64\n",
            "total active cases 18252\n",
            "total closed cases 6278\n"
          ],
          "name": "stdout"
        }
      ]
    },
    {
      "cell_type": "code",
      "metadata": {
        "id": "p-GfXuA_GtZ5",
        "outputId": "a479c84d-02a8-4f27-f68a-e52e3a36ecfe",
        "colab": {
          "base_uri": "https://localhost:8080/",
          "height": 425
        }
      },
      "source": [
        "datewiseindia[\"WeekOfYear\"]=datewiseindia.index.weekofyear\n",
        "week_numindia=[]\n",
        "weekwise_confirmedindia=[]\n",
        "weekwise_recoveredindia=[]\n",
        "weekwise_deathsindia=[]\n",
        "w=1\n",
        "for i in list(datewiseindia[\"WeekOfYear\"].unique()):\n",
        "  weekwise_confirmedindia.append(datewiseindia[datewiseindia[\"WeekOfYear\"]==i][\"Confirmed\"].iloc[-1])\n",
        "  weekwise_recoveredindia.append(datewiseindia[datewiseindia[\"WeekOfYear\"]==i][\"Recovered\"].iloc[-1])\n",
        "  weekwise_deathsindia.append(datewiseindia[datewiseindia[\"WeekOfYear\"]==i][\"Deaths\"].iloc[-1])\n",
        "  week_numindia.append(w)\n",
        "  w+=1\n",
        "plt.figure(figsize=(8,5))\n",
        "plt.plot(week_numindia,weekwise_confirmedindia,linewidth=3)\n",
        "plt.plot(week_numindia,weekwise_recoveredindia,linewidth=3)  \n",
        "plt.plot(week_numindia,weekwise_deathsindia,linewidth=3)  \n",
        "plt.xlabel(\"WeekNumber\")\n",
        "plt.ylabel(\"no of cases\")\n",
        "plt.title(\"weekly progress of the diff cases in india\")"
      ],
      "execution_count": 26,
      "outputs": [
        {
          "output_type": "stream",
          "text": [
            "/usr/local/lib/python3.6/dist-packages/ipykernel_launcher.py:1: FutureWarning: weekofyear and week have been deprecated, please use DatetimeIndex.isocalendar().week instead, which returns a Series.  To exactly reproduce the behavior of week and weekofyear and return an Index, you may call pd.Int64Index(idx.isocalendar().week)\n",
            "  \"\"\"Entry point for launching an IPython kernel.\n"
          ],
          "name": "stderr"
        },
        {
          "output_type": "execute_result",
          "data": {
            "text/plain": [
              "Text(0.5, 1.0, 'weekly progress of the diff cases in india')"
            ]
          },
          "metadata": {
            "tags": []
          },
          "execution_count": 26
        },
        {
          "output_type": "display_data",
          "data": {
            "image/png": "[encoded data removed]",
            "text/plain": [
              "<Figure size 576x360 with 1 Axes>"
            ]
          },
          "metadata": {
            "tags": [],
            "needs_background": "light"
          }
        }
      ]
    },
    {
      "cell_type": "code",
      "metadata": {
        "id": "W5RZv8fMLDsK",
        "outputId": "11295239-6289-4494-a5d3-5ed756171b2d",
        "colab": {
          "base_uri": "https://localhost:8080/",
          "height": 109
        }
      },
      "source": [
        "maxind=datewiseindia[\"Confirmed\"].max()\n",
        "chinadata=covid[covid[\"Country/Region\"]==\"Mainland China\"]\n",
        "italydata=covid[covid[\"Country/Region\"]==\"Italy\"]\n",
        "usdata=covid[covid[\"Country/Region\"]==\"US\"]\n",
        "spaindata=covid[covid[\"Country/Region\"]==\"Spain\"]\n",
        "\n",
        "datewisechina=chinadata.groupby([\"ObservationDate\"]).agg({\"Confirmed\":\"sum\",\"Recovered\":\"sum\",\"Deaths\":\"sum\"})\n",
        "datewiseitaly=italydata.groupby([\"ObservationDate\"]).agg({\"Confirmed\":\"sum\",\"Recovered\":\"sum\",\"Deaths\":\"sum\"})\n",
        "datewiseus=usdata.groupby([\"ObservationDate\"]).agg({\"Confirmed\":\"sum\",\"Recovered\":\"sum\",\"Deaths\":\"sum\"})\n",
        "datewisespain=spaindata.groupby([\"ObservationDate\"]).agg({\"Confirmed\":\"sum\",\"Recovered\":\"sum\",\"Deaths\":\"sum\"})\n",
        "print(\"it took\", datewiseindia[datewiseindia[\"Confirmed\"]>0].shape[0],\"days in india to reach\",maxind,\"confirmed cases\")\n",
        "print(\"it took\", datewisechina[(datewisechina[\"Confirmed\"]>0)&(datewisechina[\"Confirmed\"]<=maxind)].shape[0],\"days in china to reach no of confirmed cases\")\n",
        "print(\"it took\", datewiseus[(datewiseus[\"Confirmed\"]>0)&(datewiseus[\"Confirmed\"]<=maxind)].shape[0],\"days in us to reach confirmed cases\")\n",
        "print(\"it took\", datewiseitaly[(datewiseitaly[\"Confirmed\"]>0)&(datewiseitaly[\"Confirmed\"]<=maxind)].shape[0],\"days in italy to reachconfirmed cases\")\n",
        "print(\"it took\", datewisespain[(datewisespain[\"Confirmed\"]>0)&(datewisespain[\"Confirmed\"]<=maxind)].shape[0],\"days in spain to reachconfirmed cases\")\n"
      ],
      "execution_count": 29,
      "outputs": [
        {
          "output_type": "stream",
          "text": [
            "it took 86 days in india to reach 24530 confirmed cases\n",
            "it took 14 days in china to reach no of confirmed cases\n",
            "it took 59 days in us to reach confirmed cases\n",
            "it took 44 days in italy to reachconfirmed cases\n",
            "it took 49 days in spain to reachconfirmed cases\n"
          ],
          "name": "stdout"
        }
      ]
    },
    {
      "cell_type": "code",
      "metadata": {
        "id": "GPMr4HhJQE6u"
      },
      "source": [
        "datewise[\"Days Since\"]=datewise.index-datewise.index[0]\n",
        "datewise[\"Days Since\"]= datewise[\"Days Since\"].dt.days\n",
        "train=datewise.iloc[:int(datewise.shape[0]*0.95)]\n",
        "valid=datewise.iloc[:int(datewise.shape[0]*0.95):]\n",
        "model_scores=[]"
      ],
      "execution_count": 31,
      "outputs": []
    },
    {
      "cell_type": "code",
      "metadata": {
        "id": "tavz_-LQRqMe",
        "outputId": "76a9f323-63b7-4a1d-8693-353d366cfa50",
        "colab": {
          "base_uri": "https://localhost:8080/",
          "height": 111
        }
      },
      "source": [
        "linreg=LinearRegression(normalize=True)\n",
        "svm= SVR(C=1, degree=5,kernel='poly',epsilon=0.001)\n",
        "linreg.fit(np.array(train[\"Days Since\"]).reshape(-1,1),np.array(train[\"Confirmed\"]).reshape(-1,1))\n",
        "svm.fit(np.array(train[\"Days Since\"]).reshape(-1,1),np.array(train[\"Confirmed\"]).reshape(-1,1))"
      ],
      "execution_count": 32,
      "outputs": [
        {
          "output_type": "stream",
          "text": [
            "/usr/local/lib/python3.6/dist-packages/sklearn/utils/validation.py:760: DataConversionWarning: A column-vector y was passed when a 1d array was expected. Please change the shape of y to (n_samples, ), for example using ravel().\n",
            "  y = column_or_1d(y, warn=True)\n"
          ],
          "name": "stderr"
        },
        {
          "output_type": "execute_result",
          "data": {
            "text/plain": [
              "SVR(C=1, cache_size=200, coef0=0.0, degree=5, epsilon=0.001, gamma='scale',\n",
              "    kernel='poly', max_iter=-1, shrinking=True, tol=0.001, verbose=False)"
            ]
          },
          "metadata": {
            "tags": []
          },
          "execution_count": 32
        }
      ]
    },
    {
      "cell_type": "code",
      "metadata": {
        "id": "lgoabpgrSr4-"
      },
      "source": [
        "predictionvalidlinreg=linreg.predict(np.array(valid[\"Days Since\"]).reshape(-1,1))\n",
        "predictionsvm=svm.predict(np.array(valid[\"Days Since\"]).reshape(-1,1))"
      ],
      "execution_count": 33,
      "outputs": []
    },
    {
      "cell_type": "code",
      "metadata": {
        "id": "9m5-4PowTX5k",
        "outputId": "7c635aed-4060-4de1-e22a-5d52eede9e2f",
        "colab": {
          "base_uri": "https://localhost:8080/",
          "height": 363
        }
      },
      "source": [
        "newdate=[]\n",
        "newpredictionlr=[]\n",
        "newpredictionsvm=[]\n",
        "for i in range(1,18):\n",
        "  newdate.append(datewise.index[-1]+timedelta(days=i))\n",
        "  newpredictionlr.append(linreg.predict(np.array(datewise[\"Days Since\"].max()+i).reshape(-1,1))[0][0])\n",
        "  newpredictionsvm.append(svm.predict(np.array(datewise[\"Days Since\"].max()+i).reshape(-1,1))[0])\n",
        "pd.set_option(\"display.float_format\",lambda x: '%.f' % x) \n",
        "modelprediction=pd.DataFrame(zip(newdate,newpredictionlr,newpredictionsvm),columns=[\"Dates\",\"lr\",\"svr\"])\n",
        "modelprediction.head(10) "
      ],
      "execution_count": 37,
      "outputs": [
        {
          "output_type": "execute_result",
          "data": {
            "text/html": [
              "<div>\n",
              "<style scoped>\n",
              "    .dataframe tbody tr th:only-of-type {\n",
              "        vertical-align: middle;\n",
              "    }\n",
              "\n",
              "    .dataframe tbody tr th {\n",
              "        vertical-align: top;\n",
              "    }\n",
              "\n",
              "    .dataframe thead th {\n",
              "        text-align: right;\n",
              "    }\n",
              "</style>\n",
              "<table border=\"1\" class=\"dataframe\">\n",
              "  <thead>\n",
              "    <tr style=\"text-align: right;\">\n",
              "      <th></th>\n",
              "      <th>Dates</th>\n",
              "      <th>lr</th>\n",
              "      <th>svr</th>\n",
              "    </tr>\n",
              "  </thead>\n",
              "  <tbody>\n",
              "    <tr>\n",
              "      <th>0</th>\n",
              "      <td>2020-04-25</td>\n",
              "      <td>1560529</td>\n",
              "      <td>3322586</td>\n",
              "    </tr>\n",
              "    <tr>\n",
              "      <th>1</th>\n",
              "      <td>2020-04-26</td>\n",
              "      <td>1582219</td>\n",
              "      <td>3500761</td>\n",
              "    </tr>\n",
              "    <tr>\n",
              "      <th>2</th>\n",
              "      <td>2020-04-27</td>\n",
              "      <td>1603909</td>\n",
              "      <td>3686599</td>\n",
              "    </tr>\n",
              "    <tr>\n",
              "      <th>3</th>\n",
              "      <td>2020-04-28</td>\n",
              "      <td>1625599</td>\n",
              "      <td>3880344</td>\n",
              "    </tr>\n",
              "    <tr>\n",
              "      <th>4</th>\n",
              "      <td>2020-04-29</td>\n",
              "      <td>1647289</td>\n",
              "      <td>4082245</td>\n",
              "    </tr>\n",
              "    <tr>\n",
              "      <th>5</th>\n",
              "      <td>2020-04-30</td>\n",
              "      <td>1668980</td>\n",
              "      <td>4292557</td>\n",
              "    </tr>\n",
              "    <tr>\n",
              "      <th>6</th>\n",
              "      <td>2020-05-01</td>\n",
              "      <td>1690670</td>\n",
              "      <td>4511540</td>\n",
              "    </tr>\n",
              "    <tr>\n",
              "      <th>7</th>\n",
              "      <td>2020-05-02</td>\n",
              "      <td>1712360</td>\n",
              "      <td>4739461</td>\n",
              "    </tr>\n",
              "    <tr>\n",
              "      <th>8</th>\n",
              "      <td>2020-05-03</td>\n",
              "      <td>1734050</td>\n",
              "      <td>4976588</td>\n",
              "    </tr>\n",
              "    <tr>\n",
              "      <th>9</th>\n",
              "      <td>2020-05-04</td>\n",
              "      <td>1755740</td>\n",
              "      <td>5223200</td>\n",
              "    </tr>\n",
              "  </tbody>\n",
              "</table>\n",
              "</div>"
            ],
            "text/plain": [
              "       Dates      lr     svr\n",
              "0 2020-04-25 1560529 3322586\n",
              "1 2020-04-26 1582219 3500761\n",
              "2 2020-04-27 1603909 3686599\n",
              "3 2020-04-28 1625599 3880344\n",
              "4 2020-04-29 1647289 4082245\n",
              "5 2020-04-30 1668980 4292557\n",
              "6 2020-05-01 1690670 4511540\n",
              "7 2020-05-02 1712360 4739461\n",
              "8 2020-05-03 1734050 4976588\n",
              "9 2020-05-04 1755740 5223200"
            ]
          },
          "metadata": {
            "tags": []
          },
          "execution_count": 37
        }
      ]
    },
    {
      "cell_type": "code",
      "metadata": {
        "id": "D3Mit30CVnwE"
      },
      "source": [
        "#time series analysis\n",
        "#compare approx nearer\n",
        "modeltrain=datewise.iloc[:int(datewise.shape[0]*0.85)]\n",
        "vali=datewise.iloc[:int(datewise.shape[0]*0.85):]"
      ],
      "execution_count": 38,
      "outputs": []
    },
    {
      "cell_type": "code",
      "metadata": {
        "id": "hlAPLxVAXIxO"
      },
      "source": [
        "holt=Holt(np.asarray(modeltrain[\"Confirmed\"])).fit(smoothing_level=1.4,smoothing_slope=0.2)\n",
        "y_pred=vali.copy()\n",
        "y_pred[\"Holt\"]=holt.forecast(len(vali))"
      ],
      "execution_count": 39,
      "outputs": []
    },
    {
      "cell_type": "code",
      "metadata": {
        "id": "cY0AvlumXpaO",
        "outputId": "21b6d9d1-ff0e-4dcc-bb0a-6186c75d6e13",
        "colab": {
          "base_uri": "https://localhost:8080/",
          "height": 363
        }
      },
      "source": [
        "holtnewdate=[]\n",
        "holtnewprediction=[]\n",
        "for i in range(1,18):\n",
        "  holtnewdate.append(datewise.index[-1]+timedelta(days=i))\n",
        "  holtnewprediction.append(holt.forecast((len(vali)+i))[-1])\n",
        "modelprediction[\"Holts Linear Model prediction\"]=holtnewprediction\n",
        "modelprediction.head(10)  "
      ],
      "execution_count": 45,
      "outputs": [
        {
          "output_type": "execute_result",
          "data": {
            "text/html": [
              "<div>\n",
              "<style scoped>\n",
              "    .dataframe tbody tr th:only-of-type {\n",
              "        vertical-align: middle;\n",
              "    }\n",
              "\n",
              "    .dataframe tbody tr th {\n",
              "        vertical-align: top;\n",
              "    }\n",
              "\n",
              "    .dataframe thead th {\n",
              "        text-align: right;\n",
              "    }\n",
              "</style>\n",
              "<table border=\"1\" class=\"dataframe\">\n",
              "  <thead>\n",
              "    <tr style=\"text-align: right;\">\n",
              "      <th></th>\n",
              "      <th>Dates</th>\n",
              "      <th>lr</th>\n",
              "      <th>svr</th>\n",
              "      <th>Holts Linear Model prediction</th>\n",
              "    </tr>\n",
              "  </thead>\n",
              "  <tbody>\n",
              "    <tr>\n",
              "      <th>0</th>\n",
              "      <td>2020-04-25</td>\n",
              "      <td>1560529</td>\n",
              "      <td>3322586</td>\n",
              "      <td>7889231</td>\n",
              "    </tr>\n",
              "    <tr>\n",
              "      <th>1</th>\n",
              "      <td>2020-04-26</td>\n",
              "      <td>1582219</td>\n",
              "      <td>3500761</td>\n",
              "      <td>7967887</td>\n",
              "    </tr>\n",
              "    <tr>\n",
              "      <th>2</th>\n",
              "      <td>2020-04-27</td>\n",
              "      <td>1603909</td>\n",
              "      <td>3686599</td>\n",
              "      <td>8046543</td>\n",
              "    </tr>\n",
              "    <tr>\n",
              "      <th>3</th>\n",
              "      <td>2020-04-28</td>\n",
              "      <td>1625599</td>\n",
              "      <td>3880344</td>\n",
              "      <td>8125199</td>\n",
              "    </tr>\n",
              "    <tr>\n",
              "      <th>4</th>\n",
              "      <td>2020-04-29</td>\n",
              "      <td>1647289</td>\n",
              "      <td>4082245</td>\n",
              "      <td>8203855</td>\n",
              "    </tr>\n",
              "    <tr>\n",
              "      <th>5</th>\n",
              "      <td>2020-04-30</td>\n",
              "      <td>1668980</td>\n",
              "      <td>4292557</td>\n",
              "      <td>8282511</td>\n",
              "    </tr>\n",
              "    <tr>\n",
              "      <th>6</th>\n",
              "      <td>2020-05-01</td>\n",
              "      <td>1690670</td>\n",
              "      <td>4511540</td>\n",
              "      <td>8361167</td>\n",
              "    </tr>\n",
              "    <tr>\n",
              "      <th>7</th>\n",
              "      <td>2020-05-02</td>\n",
              "      <td>1712360</td>\n",
              "      <td>4739461</td>\n",
              "      <td>8439823</td>\n",
              "    </tr>\n",
              "    <tr>\n",
              "      <th>8</th>\n",
              "      <td>2020-05-03</td>\n",
              "      <td>1734050</td>\n",
              "      <td>4976588</td>\n",
              "      <td>8518479</td>\n",
              "    </tr>\n",
              "    <tr>\n",
              "      <th>9</th>\n",
              "      <td>2020-05-04</td>\n",
              "      <td>1755740</td>\n",
              "      <td>5223200</td>\n",
              "      <td>8597135</td>\n",
              "    </tr>\n",
              "  </tbody>\n",
              "</table>\n",
              "</div>"
            ],
            "text/plain": [
              "       Dates      lr     svr  Holts Linear Model prediction\n",
              "0 2020-04-25 1560529 3322586                        7889231\n",
              "1 2020-04-26 1582219 3500761                        7967887\n",
              "2 2020-04-27 1603909 3686599                        8046543\n",
              "3 2020-04-28 1625599 3880344                        8125199\n",
              "4 2020-04-29 1647289 4082245                        8203855\n",
              "5 2020-04-30 1668980 4292557                        8282511\n",
              "6 2020-05-01 1690670 4511540                        8361167\n",
              "7 2020-05-02 1712360 4739461                        8439823\n",
              "8 2020-05-03 1734050 4976588                        8518479\n",
              "9 2020-05-04 1755740 5223200                        8597135"
            ]
          },
          "metadata": {
            "tags": []
          },
          "execution_count": 45
        }
      ]
    },
    {
      "cell_type": "code",
      "metadata": {
        "id": "48Tl91pyY925"
      },
      "source": [
        ""
      ],
      "execution_count": null,
      "outputs": []
    }
  ]
}